{
 "cells": [
  {
   "cell_type": "markdown",
   "metadata": {},
   "source": [
    "# JBS Python Crash Course\n",
    "\n",
    "In session 1, we'll try and get through the following:\n",
    "\n",
    "- Basics: Storing data in variables, data types, basic variable manipulation\n",
    "\n",
    "- Functions: What they are, how to make one, how to use one\n",
    "\n",
    "- Modules: What they are, why they are, how to use one\n",
    "\n",
    "- Useful modules: NumPy, pandas, scikit-learn\n",
    "\n",
    "- Basics of 'machine learning', discussion, and a simple house-price model\n",
    "\n",
    "In session 2, we'll start looking at the data you will be given for the actual assignment later on in the course.\n",
    "\n",
    "*NOTE: In case you are curious, yes this is still an iPython notebook 'cell', but I have converted it to a text-formatted cell by clicking 'Cell' -> 'Cell Type' -> 'Markdown'. Markdown is basically a simple text formatting language.*\n",
    "\n",
    "## OK let's look at some variables"
   ]
  },
  {
   "cell_type": "code",
   "execution_count": null,
   "metadata": {
    "collapsed": false
   },
   "outputs": [],
   "source": [
    "# This line is ignored by the Python interpreter because it starts with a '#'\n",
    "\n",
    "# let's create two variables, one called x and another called y\n",
    "x = 2\n",
    "y = 3\n",
    "z1 = x + y\n",
    "print(z1) \n",
    "# Congratulations, you just used your first function"
   ]
  },
  {
   "cell_type": "code",
   "execution_count": null,
   "metadata": {
    "collapsed": false
   },
   "outputs": [],
   "source": [
    "# NOTE: Everything (apart from these comments) in Python is case sensitive \n",
    "\n",
    "# Question: What will happen now?\n",
    "z2 = X + y\n",
    "\n",
    "# Also note the error message; error messages are your friends"
   ]
  },
  {
   "cell_type": "code",
   "execution_count": null,
   "metadata": {
    "collapsed": false
   },
   "outputs": [],
   "source": [
    "# In this cell, let's think of some other common mathematical operations to try\n",
    "\n",
    "\n",
    "\n",
    "\n",
    "\n",
    "\n"
   ]
  },
  {
   "cell_type": "code",
   "execution_count": null,
   "metadata": {
    "collapsed": false
   },
   "outputs": [],
   "source": [
    "# There are quite a few different 'data types' in Python\n",
    "\n",
    "# If you are used to Excel, you probably didn't have to worry about data types\n",
    "\n",
    "# In Python you sometimes do have to worry, but not always, for example\n",
    "\n",
    "my_variable1 = 1 # an integer\n",
    "\n",
    "print(type(my_variable1))\n",
    "\n",
    "my_variable2 = 1.0\n",
    "\n",
    "print(type(my_variable2)) # a floating point number\n",
    "\n",
    "my_variable1 + my_variable2\n",
    "\n",
    "# Wonderful, it works, this is called type 'promotion', the int was promoted to\n",
    "# a float so they could be added together\n",
    "\n",
    "# also note that when we did print(type()) we were using 'nested' functions"
   ]
  },
  {
   "cell_type": "code",
   "execution_count": null,
   "metadata": {
    "collapsed": false
   },
   "outputs": [],
   "source": [
    "# What about non-numerical data types? \n",
    "\n",
    "a_word = 'happy'\n",
    "\n",
    "another_word = 'birthday, my friend.'\n",
    "\n",
    "a_sentence = a_word + another_word\n",
    "\n",
    "a_sentence\n",
    "\n",
    "# Woops, something is wrong with that sentence. How can we fix it?"
   ]
  },
  {
   "cell_type": "code",
   "execution_count": null,
   "metadata": {
    "collapsed": false
   },
   "outputs": [],
   "source": [
    "# And, what about collections of things?\n",
    "\n",
    "# Let's try the simplest type, a list, we can have a list of anything\n",
    "\n",
    "some_numbers = [1, 2.0, 3, 4, 1000] # note they are mixed types\n",
    "some_words = [\"hey\", \"business\", \"like\", \"Boris Johnson\"]\n",
    "\n",
    "some_things = [\"hey\", \"give me a number\", 5, \"5\"]\n",
    "\n",
    "print(some_things)\n",
    "\n",
    "print(type(some_things[2]))\n",
    "\n",
    "# What about this one? GUESS FIRST!\n",
    "# print(type(some_things[3]))\n",
    "\n",
    "# NOTE THAT LISTS ARE '0' INDEXED WHICH MEANS THEY START AT POSITION 0\n",
    "# print(some_things[0])\n",
    "\n",
    "# There are other 'collection' types in Python, can you name any?"
   ]
  },
  {
   "cell_type": "code",
   "execution_count": null,
   "metadata": {
    "collapsed": false
   },
   "outputs": [],
   "source": [
    "# Hold on, I tried to create a variable and it didn't work?\n",
    "\n",
    "# First, have a look at the 'Identifier Naming' section of this e-book https://python.swaroopch.com/basics.html\n",
    "\n",
    "# Let's try an example that breaks the rules discussed in the above link:\n",
    "\n",
    "a[variable = 5"
   ]
  },
  {
   "cell_type": "code",
   "execution_count": null,
   "metadata": {
    "collapsed": true
   },
   "outputs": [],
   "source": [
    "# What about this one?\n",
    "\n",
    "_aVario___AWrkm = 5"
   ]
  },
  {
   "cell_type": "markdown",
   "metadata": {},
   "source": [
    "## Let's have another think about functions"
   ]
  },
  {
   "cell_type": "code",
   "execution_count": null,
   "metadata": {
    "collapsed": false
   },
   "outputs": [],
   "source": [
    "# What does this do?\n",
    "\n",
    "type(5)"
   ]
  },
  {
   "cell_type": "code",
   "execution_count": null,
   "metadata": {
    "collapsed": false
   },
   "outputs": [],
   "source": [
    "# How about this?\n",
    "\n",
    "print(\"hey\")"
   ]
  },
  {
   "cell_type": "code",
   "execution_count": null,
   "metadata": {
    "collapsed": false
   },
   "outputs": [],
   "source": [
    "# They are both FUNCTIONS. You can make your own functions, for example\n",
    "\n",
    "def myfirstfunction(x, y):\n",
    "    return (x + y)\n",
    "\n",
    "# note that it can have as many arguments as you want (within reason) and they can be called whatever you want (within reason)\n",
    "\n",
    "# OK enough chit-chat, let's try and use it\n",
    "\n",
    "myfirstfunction(1, 2)"
   ]
  },
  {
   "cell_type": "code",
   "execution_count": null,
   "metadata": {
    "collapsed": false
   },
   "outputs": [],
   "source": [
    "# Let's try something more complicated\n",
    "\n",
    "def mysecondfunction(x, y, z):\n",
    "    sum1 = x + y\n",
    "    sum2 = y + z\n",
    "    return sum1 + sum2\n",
    "\n",
    "mysecondfunction(1, 1, 1)"
   ]
  },
  {
   "cell_type": "code",
   "execution_count": null,
   "metadata": {
    "collapsed": false
   },
   "outputs": [],
   "source": [
    "# Note that everything 'within' the function has to have the same level of spaces or indentation\n",
    "# that's why this doesn't work\n",
    "\n",
    "def abadfunction(x, y, x):\n",
    "    sum1 = x + y\n",
    "  sum2 = y + z\n",
    "      return sum1 + sum2\n",
    "\n",
    "abadfunction(1, 1, 1)"
   ]
  },
  {
   "cell_type": "code",
   "execution_count": null,
   "metadata": {
    "collapsed": false
   },
   "outputs": [],
   "source": [
    "# Also note, if you assign/change variables 'within' a function, it doesn't affect variables 'outside' of the function \n",
    "# caveat (for now)\n",
    "\n",
    "z = 1.0\n",
    "\n",
    "def doubler(x):\n",
    "    z = 50000\n",
    "    return 2*x\n",
    "\n",
    "print(doubler(5))\n",
    "\n",
    "# What will this print? GUESS FIRST\n",
    "# print(z)"
   ]
  },
  {
   "cell_type": "markdown",
   "metadata": {},
   "source": [
    "## OK, OK! That's the basics of functions covered. What about Modules?\n",
    "\n",
    "Well, what we have lots of functions? Hundreds of functions? And other more complicated components called 'classes'?\n",
    "\n",
    "We might want to bundle them together in a neat way. A good way of doing this is by putting everything in a module.\n",
    "\n",
    "We won't go through how to create a module today but it is not particularly complicated so if you are interested\n",
    "I recommend you have a look at the other self-learning links I emailed previously.\n",
    "\n",
    "What we will go through today however, is how to load in modules that other people have written. This is because we'll need some of these modules to complete some assignments later in the course."
   ]
  },
  {
   "cell_type": "code",
   "execution_count": null,
   "metadata": {
    "collapsed": false
   },
   "outputs": [],
   "source": [
    "# There are different ways you can load in a module. Let's start by trying to load a module called 'numpy'\n",
    "\n",
    "import numpy\n",
    "\n",
    "# great we did it, wonderful. Let's try and use the numpy module. Let's use the function that converts a regular 'list'\n",
    "# into a special type of collection known as a numpy array.\n",
    "\n",
    "our_list = [1, 2, 3]\n",
    "\n",
    "print(type(our_list))\n",
    "\n",
    "print(our_list)\n",
    "\n",
    "our_array = numpy.asarray(our_list)\n",
    "\n",
    "print(type(our_array))\n",
    "\n",
    "print(our_array)\n",
    "\n",
    "# They might look the same when they are printed out, but notice their types are different. This is important.\n",
    "# It has major implications for computational performance which we can discuss further if you want."
   ]
  },
  {
   "cell_type": "code",
   "execution_count": null,
   "metadata": {
    "collapsed": false
   },
   "outputs": [],
   "source": [
    "# OK good work. But typing 'numpy.' before we access any of the numpy functions can get a bit cumbersome.\n",
    "# We can improve the situation by giving numpy an alias. We do this in the following way:\n",
    "\n",
    "import numpy as np\n",
    "\n",
    "our_list2 = [1, 2, 3]\n",
    "our_array2 = np.asarray(our_list2) # notice the difference from the previous cell\n",
    "print(type(our_array2))\n",
    "print(our_array2)\n",
    "\n",
    "# See, that's a bit better isn't it?"
   ]
  },
  {
   "cell_type": "code",
   "execution_count": null,
   "metadata": {
    "collapsed": false
   },
   "outputs": [],
   "source": [
    "# What if we know we only need one or two functions from a module? We can import them directly.\n",
    "\n",
    "from numpy import asarray\n",
    "\n",
    "our_list3 = [1, 2, 3]\n",
    "our_array3 = asarray(our_list3) # notice the difference from the previous cell\n",
    "print(type(our_array3))\n",
    "print(our_array3)"
   ]
  },
  {
   "cell_type": "code",
   "execution_count": null,
   "metadata": {
    "collapsed": false
   },
   "outputs": [],
   "source": [
    "# And finally (not normally recommended), what if we want to import all the functions from a module so that\n",
    "# we can use them without any prefix?\n",
    "\n",
    "from numpy import *\n",
    "\n",
    "our_list4 = [1, 2, 3]\n",
    "our_array4 = asarray(our_list4) # SAME AS PREVIOUS CELL, BUT NOW WE'VE IMPORTED ALL OF THE NUMPY FUNCTIONS\n",
    "print(type(our_array4))\n",
    "print(our_array4)\n"
   ]
  },
  {
   "cell_type": "markdown",
   "metadata": {},
   "source": [
    "## OK great. Now we can load modules. We've introduced numpy, let's dig a bit deeper.\n",
    "\n",
    "numpy will be useful to us in this course. So will some other modules. The other ones I can think of from the top of my head are 'pandas' and 'scikit-learn'. So what do these modules provide?\n",
    "\n",
    "numpy has the basic array functionality that we will depend on for computational speed.\n",
    "\n",
    "pandas is key to many data-centric applications. It will enable you to load in data very quickly and manipulate the data with ease.\n",
    "\n",
    "scikit-learn is a machine learning module for python. It will be particularly important for the assignment you will eventually be asked to do for the course.\n",
    "\n",
    "### In this section we will briefly show some numpy and pandas functionality. Elements of scikit-learn will be introduced later as needed."
   ]
  },
  {
   "cell_type": "code",
   "execution_count": null,
   "metadata": {
    "collapsed": false
   },
   "outputs": [],
   "source": [
    "# let's start from where we left off, with our array\n",
    "# there are lots of numpy functions we can use on our array (see https://numpy.org/doc/1.17/reference/index.html)\n",
    "\n",
    "print(np.square(our_array)) # get the square elements of all previous elements\n",
    "\n",
    "print(np.sum(our_array)) # sum all elements\n",
    "\n",
    "print(np.flip(our_array, 0)) # flip the order of elements along the 0th dimension\n",
    "\n",
    "print(np.linalg.norm(our_array)) # calculate the norm, (1**2 + 2**2 + 3**2)**(1/2)\n",
    "\n",
    "# the above is just the simplest numpy functions I could think of. I encourage you to browse the documentation to what is\n",
    "# possible."
   ]
  },
  {
   "cell_type": "code",
   "execution_count": null,
   "metadata": {
    "collapsed": false
   },
   "outputs": [],
   "source": [
    "# let's use pandas to import some tabular data. If you have excel (or an open-source equivalent), let's open it there first\n",
    "# so you can get a visual understanding of the data. The file is 'housepricedata.csv'. Now, let's also open it up in a\n",
    "# basic word editor (e.g. notepad) and see what we can say about that.\n",
    "\n",
    "# finally! Let's use pandas\n",
    "\n",
    "import pandas as pd\n",
    "\n",
    "housepricedata = pd.read_csv(\"housepricedata.csv\") # this function just reads the file if we give it the filename\n",
    "\n",
    "# wonderful, now let's have a look it here\n",
    "print(housepricedata)"
   ]
  },
  {
   "cell_type": "code",
   "execution_count": null,
   "metadata": {
    "collapsed": false
   },
   "outputs": [],
   "source": [
    "# OK, is there any irrelevant information here? There doesn't seem to be a correlation between estate agent and price,\n",
    "# or number of teapots in the house and house price. Maybe we can get rid of those two columns?\n",
    "\n",
    "del housepricedata['Estate Agent']\n",
    "del housepricedata['Number of Teapots']\n",
    "\n",
    "print(housepricedata) # that looks a bit more sensible!"
   ]
  },
  {
   "cell_type": "code",
   "execution_count": null,
   "metadata": {
    "collapsed": false
   },
   "outputs": [],
   "source": [
    "# OK, as we only have two dimensions here, what's a sensible thing to do? Well, humans can easily visualise \n",
    "# 3 dimensions or less. Why don't we try and plot the data? When doing data analysis, we don't always have this luxury.\n",
    "# Make the most of it.\n",
    "\n",
    "# tell plotter to show the plot below the cell. (NOTE THIS COMMAND ONLY WORKS IN IPYTHON NOTEBOOKS)\n",
    "%matplotlib inline \n",
    "\n",
    "# plot the data\n",
    "housepricedata.plot(x='Day Purchased', y='Price', kind=\"scatter\")"
   ]
  },
  {
   "cell_type": "code",
   "execution_count": null,
   "metadata": {
    "collapsed": false
   },
   "outputs": [],
   "source": [
    "# Hmm, what does this look like to you. It looks roughly like a straight line to me.\n",
    "\n",
    "# So let's try and fit a straight line regression model using scikit-learn.\n",
    "# Relevant documentation https://scikit-learn.org/stable/modules/linear_model.html#ordinary-least-squares\n",
    "# READ THE DOCUMENTATION! IT IS YOUR FRIEND! READ THE DOCUMENTATION! IT IS YOUR FRIEND! READ THE DOCUMENTATION...\n",
    "\n",
    "# import a linear model from scikit-learn\n",
    "from sklearn import linear_model\n",
    "\n",
    "# create the model\n",
    "reg = linear_model.LinearRegression()\n",
    "\n",
    "# separate inputs and outputs for clarity\n",
    "inputs = np.asarray(housepricedata['Day Purchased'])\n",
    "# when we get the data it is a single row, lots of columns\n",
    "print(inputs)\n",
    "# but we need a single column, all rows\n",
    "inputs = inputs.reshape(-1, 1)\n",
    "print(inputs)\n",
    "\n",
    "outputs = np.asarray(housepricedata['Price'])\n",
    "\n",
    "# fit the model to the data\n",
    "reg.fit(inputs, outputs)\n",
    "\n",
    "# model is now fitted, let's see how well it fits the data\n",
    "predicted = reg.predict(inputs)\n",
    "\n",
    "# we don't have nice dataframes anymore, just separate arrays, so we need it to import our plotting module explicitly\n",
    "import matplotlib.pyplot as plt\n",
    "\n",
    "plt.plot(inputs, predicted)\n",
    "plt.plot(inputs, outputs, marker='o', linewidth=0)\n",
    "\n",
    "# congratulations, you are now a machine learning practitioner!"
   ]
  },
  {
   "cell_type": "markdown",
   "metadata": {},
   "source": [
    "## The real challenge! Let's find some fraud!\n",
    "\n",
    "Now we have the basic skills we need to attempt a more interesting problem, detecting bank fraud from annonymised data.\n",
    "\n",
    "Let's have a go. The training data is in the file called 'd_training_set.csv'. Now there are many dimensions to the inputs. \n",
    "\n",
    "Not so easy to visualise.\n",
    "\n",
    "Another key difference is that the output is binary. Either the transaction is fraudulent or its not. This is known as\n",
    "a 'classification' problem.\n",
    "\n",
    "As before, let's look at the data in Excel before we load it into Python."
   ]
  },
  {
   "cell_type": "code",
   "execution_count": null,
   "metadata": {
    "collapsed": true
   },
   "outputs": [],
   "source": [
    "# GAPS LEFT INBETWEEN LINES HERE SO YOU CAN TAKE NOTES AS WE DISCUSS\n",
    "\n",
    "from sklearn.linear_model import LogisticRegression\n",
    "\n",
    "traindata = pd.read_csv(\"d_training_set.csv\")\n",
    "\n",
    "Y = traindata['Class']\n",
    "\n",
    "del traindata['Class']\n",
    "\n",
    "del traindata['row_id']\n",
    "\n",
    "# (NOTE TO DISCUSS RANDOM_STATE AND SOLVER)\n",
    "model = LogisticRegression(random_state=0, solver='lbfgs')\n",
    "\n",
    "fittedmodel = model.fit(traindata, Y)"
   ]
  },
  {
   "cell_type": "code",
   "execution_count": null,
   "metadata": {
    "collapsed": true
   },
   "outputs": [],
   "source": [
    "# Now we have fitted our model, we need to make predictions on 'unseen data' whose outputs we don't know\n",
    "\n",
    "testdata = pd.read_csv(\"d_online_test_set.csv\")\n",
    "\n",
    "rowids = np.array( testdata['row_id'] )\n",
    "\n",
    "del testdata['row_id']\n",
    "\n",
    "predictions = fittedmodel.predict(testdata)"
   ]
  },
  {
   "cell_type": "code",
   "execution_count": null,
   "metadata": {
    "collapsed": true
   },
   "outputs": [],
   "source": [
    "# Now we have our predictions, we just need to do some data wrangling to get it in a suitable format for submission\n",
    "# (two columns, many rows. Each column should be comma separated)\n",
    "\n",
    "towrite = np.column_stack((rowids, predictions))\n",
    "\n",
    "np.savetxt(\"predicted.csv\", towrite, delimiter=',', fmt='%d')"
   ]
  },
  {
   "cell_type": "markdown",
   "metadata": {},
   "source": [
    "## Well done! \n",
    "\n",
    "Now we can open up our 'predicted.csv' file (wordpad is best on Windows, not sure on Mac) and copy paste our predictions into the online form at\n",
    "\n",
    "https://concertotest.com/david/demo/test/fraudprediction\n",
    "\n",
    "I get an accuracy of approximately 90%. Not too bad for a quick attempt.\n",
    "\n",
    "Your job later in the course will be to try and develop a model that achieves a greater accuracy. Note that this doesn't have to strictly involve just Python extensions.\n",
    "\n",
    "(Hint: you will need to look at more advanced models in scikit-learn, but to start with, consider which of the input columns\n",
    "are more or less correlated with the outputs. Perhaps some columns do not correlate with the classification at all, and perhaps some inputs are correlated with each other, presenting duplicate information to the model. This is just a starting point. I haven't explored further so I cannot say whether the above is true or not, it is up to you to investigate)"
   ]
  }
 ],
 "metadata": {
  "kernelspec": {
   "display_name": "Python 3",
   "language": "python",
   "name": "python3"
  },
  "language_info": {
   "codemirror_mode": {
    "name": "ipython",
    "version": 3
   },
   "file_extension": ".py",
   "mimetype": "text/x-python",
   "name": "python",
   "nbconvert_exporter": "python",
   "pygments_lexer": "ipython3",
   "version": "3.5.4"
  }
 },
 "nbformat": 4,
 "nbformat_minor": 0
}
